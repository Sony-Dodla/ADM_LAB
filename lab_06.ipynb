{
  "nbformat": 4,
  "nbformat_minor": 0,
  "metadata": {
    "colab": {
      "provenance": [],
      "authorship_tag": "ABX9TyOMfnr0scCwpMMA9ug/DAMV",
      "include_colab_link": true
    },
    "kernelspec": {
      "name": "python3",
      "display_name": "Python 3"
    },
    "language_info": {
      "name": "python"
    }
  },
  "cells": [
    {
      "cell_type": "markdown",
      "metadata": {
        "id": "view-in-github",
        "colab_type": "text"
      },
      "source": [
        "<a href=\"https://colab.research.google.com/github/Sony-Dodla/ADM_LAB/blob/main/lab_06.ipynb\" target=\"_parent\"><img src=\"https://colab.research.google.com/assets/colab-badge.svg\" alt=\"Open In Colab\"/></a>"
      ]
    },
    {
      "cell_type": "code",
      "execution_count": 1,
      "metadata": {
        "id": "AJgJQ74djRhL"
      },
      "outputs": [],
      "source": [
        "import pandas as pd"
      ]
    },
    {
      "cell_type": "code",
      "source": [
        "file_path = '/content/titanic.csv'\n",
        "df = pd.read_csv(file_path)"
      ],
      "metadata": {
        "id": "9GGIMY8lka8N"
      },
      "execution_count": 2,
      "outputs": []
    },
    {
      "cell_type": "code",
      "source": [
        "numeric_cols = df.select_dtypes(include=['number'])"
      ],
      "metadata": {
        "id": "x_z46Bi_khqw"
      },
      "execution_count": 3,
      "outputs": []
    },
    {
      "cell_type": "code",
      "source": [
        "mean_values = numeric_cols.mean()\n",
        "median_values = numeric_cols.median()\n",
        "mode_values = numeric_cols.mode().iloc[0]"
      ],
      "metadata": {
        "id": "SNdX0-2sklSa"
      },
      "execution_count": 4,
      "outputs": []
    },
    {
      "cell_type": "code",
      "source": [
        "print(\"Mean Values:\\n\", mean_values)\n",
        "print(\"\\nMedian Values:\\n\", median_values)\n",
        "print(\"\\nMode Values:\\n\", mode_values)"
      ],
      "metadata": {
        "colab": {
          "base_uri": "https://localhost:8080/"
        },
        "id": "clzomP3akpF0",
        "outputId": "754d0533-c545-4a16-c356-423d9e98009e"
      },
      "execution_count": 5,
      "outputs": [
        {
          "output_type": "stream",
          "name": "stdout",
          "text": [
            "Mean Values:\n",
            " PassengerId    446.000000\n",
            "Survived         0.383838\n",
            "Pclass           2.308642\n",
            "Age             29.699118\n",
            "SibSp            0.523008\n",
            "Parch            0.381594\n",
            "Fare            32.204208\n",
            "dtype: float64\n",
            "\n",
            "Median Values:\n",
            " PassengerId    446.0000\n",
            "Survived         0.0000\n",
            "Pclass           3.0000\n",
            "Age             28.0000\n",
            "SibSp            0.0000\n",
            "Parch            0.0000\n",
            "Fare            14.4542\n",
            "dtype: float64\n",
            "\n",
            "Mode Values:\n",
            " PassengerId     1.00\n",
            "Survived        0.00\n",
            "Pclass          3.00\n",
            "Age            24.00\n",
            "SibSp           0.00\n",
            "Parch           0.00\n",
            "Fare            8.05\n",
            "Name: 0, dtype: float64\n"
          ]
        }
      ]
    }
  ]
}