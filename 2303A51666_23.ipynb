{
  "nbformat": 4,
  "nbformat_minor": 0,
  "metadata": {
    "colab": {
      "provenance": [],
      "authorship_tag": "ABX9TyMs5dS2Nx3u4OKfVyLdxd7k",
      "include_colab_link": true
    },
    "kernelspec": {
      "name": "python3",
      "display_name": "Python 3"
    },
    "language_info": {
      "name": "python"
    }
  },
  "cells": [
    {
      "cell_type": "markdown",
      "metadata": {
        "id": "view-in-github",
        "colab_type": "text"
      },
      "source": [
        "<a href=\"https://colab.research.google.com/github/Sony-Dodla/ADM_LAB/blob/main/2303A51666_23.ipynb\" target=\"_parent\"><img src=\"https://colab.research.google.com/assets/colab-badge.svg\" alt=\"Open In Colab\"/></a>"
      ]
    },
    {
      "cell_type": "code",
      "execution_count": 1,
      "metadata": {
        "id": "UVEVr9KarlW5"
      },
      "outputs": [],
      "source": [
        "import pandas as pd"
      ]
    },
    {
      "cell_type": "code",
      "source": [
        "uni = pd.read_csv(\"/content/university_student.csv\")\n",
        "print(\"First 10 rows:\")\n",
        "print(uni.head(10))\n",
        "print(\"\\nMissing values:\")\n",
        "print(uni.isnull().sum())\n",
        "uni.fillna(method='ffill', inplace=True)\n"
      ],
      "metadata": {
        "colab": {
          "base_uri": "https://localhost:8080/"
        },
        "id": "__mng2gau3qf",
        "outputId": "e146e4fb-87e1-4462-def8-368395e7b045"
      },
      "execution_count": 3,
      "outputs": [
        {
          "output_type": "stream",
          "name": "stdout",
          "text": [
            "First 10 rows:\n",
            "   Student ID  Gender Date of Birth  Study Time Grade School Type  Absences  \\\n",
            "0           1    Male    1996-12-03          11     D      Public         2   \n",
            "1           2  Female    2001-09-15           5     D     Private         0   \n",
            "2           3    Male    2002-08-09           8     A     Private         2   \n",
            "3           4    Male    1999-04-29           8     A     Private         3   \n",
            "4           5    Male    1995-06-11           9     B     Private         1   \n",
            "5           6  Female    1995-07-21          11     A     Private         1   \n",
            "6           7    Male    2000-06-04          11     C      Public         4   \n",
            "7           8    Male    1997-09-22          15     D     Private         1   \n",
            "8           9    Male    2001-05-06           8     A      Public         4   \n",
            "9          10  Female    2005-10-09          11     A     Private         5   \n",
            "\n",
            "   Math Score  Reading Score  Writing Score  \n",
            "0          72             91             69  \n",
            "1          66             58             62  \n",
            "2          75             99             77  \n",
            "3          57             76             97  \n",
            "4          78             51             78  \n",
            "5          75             54             62  \n",
            "6          59             78             95  \n",
            "7          75             86             84  \n",
            "8          83             87             55  \n",
            "9         100             68             67  \n",
            "\n",
            "Missing values:\n",
            "Student ID       0\n",
            "Gender           0\n",
            "Date of Birth    0\n",
            "Study Time       0\n",
            "Grade            0\n",
            "School Type      0\n",
            "Absences         0\n",
            "Math Score       0\n",
            "Reading Score    0\n",
            "Writing Score    0\n",
            "dtype: int64\n"
          ]
        },
        {
          "output_type": "stream",
          "name": "stderr",
          "text": [
            "<ipython-input-3-57e4af8b43d6>:6: FutureWarning: DataFrame.fillna with 'method' is deprecated and will raise in a future version. Use obj.ffill() or obj.bfill() instead.\n",
            "  uni.fillna(method='ffill', inplace=True)\n"
          ]
        }
      ]
    },
    {
      "cell_type": "code",
      "source": [
        "uni_encoded = pd.get_dummies(uni, columns=['Gender', 'School Type'])\n",
        "print(\"\\nDataset after one-hot encoding:\")\n",
        "print(uni_encoded.head())\n"
      ],
      "metadata": {
        "colab": {
          "base_uri": "https://localhost:8080/"
        },
        "id": "Q05VUBO2wCgG",
        "outputId": "13315292-edc5-4c11-d987-f1a5fdaea680"
      },
      "execution_count": 4,
      "outputs": [
        {
          "output_type": "stream",
          "name": "stdout",
          "text": [
            "\n",
            "Dataset after one-hot encoding:\n",
            "   Student ID Date of Birth  Study Time Grade  Absences  Math Score  \\\n",
            "0           1    1996-12-03          11     D         2          72   \n",
            "1           2    2001-09-15           5     D         0          66   \n",
            "2           3    2002-08-09           8     A         2          75   \n",
            "3           4    1999-04-29           8     A         3          57   \n",
            "4           5    1995-06-11           9     B         1          78   \n",
            "\n",
            "   Reading Score  Writing Score  Gender_Female  Gender_Male  \\\n",
            "0             91             69          False         True   \n",
            "1             58             62           True        False   \n",
            "2             99             77          False         True   \n",
            "3             76             97          False         True   \n",
            "4             51             78          False         True   \n",
            "\n",
            "   School Type_Private  School Type_Public  \n",
            "0                False                True  \n",
            "1                 True               False  \n",
            "2                 True               False  \n",
            "3                 True               False  \n",
            "4                 True               False  \n"
          ]
        }
      ]
    },
    {
      "cell_type": "code",
      "source": [
        "math_stats = uni['Math Score'].agg(['mean', 'median', 'std'])\n",
        "print(\"\\nMath Score Statistics:\")\n",
        "print(math_stats)"
      ],
      "metadata": {
        "colab": {
          "base_uri": "https://localhost:8080/"
        },
        "id": "Zq6lH9LXz7_X",
        "outputId": "4ce3e6d6-513f-4b7d-da15-5656e26e23bf"
      },
      "execution_count": 17,
      "outputs": [
        {
          "output_type": "stream",
          "name": "stdout",
          "text": [
            "\n",
            "Math Score Statistics:\n",
            "mean      76.030000\n",
            "median    74.500000\n",
            "std       13.481341\n",
            "Name: Math Score, dtype: float64\n"
          ]
        }
      ]
    },
    {
      "cell_type": "code",
      "source": [
        "school_counts = uni['School Type'].value_counts()\n"
      ],
      "metadata": {
        "id": "BkC16Io0xir9"
      },
      "execution_count": 14,
      "outputs": []
    },
    {
      "cell_type": "code",
      "source": [
        "print(\"\\nTotal number of students per School Type:\")\n",
        "print(school_counts)"
      ],
      "metadata": {
        "colab": {
          "base_uri": "https://localhost:8080/"
        },
        "id": "tR8hO1cexmO_",
        "outputId": "44dc195a-dc8f-4657-8f6a-5ecfbaae0ac1"
      },
      "execution_count": 15,
      "outputs": [
        {
          "output_type": "stream",
          "name": "stdout",
          "text": [
            "\n",
            "Total number of students per School Type:\n",
            "School Type\n",
            "Private    59\n",
            "Public     41\n",
            "Name: count, dtype: int64\n"
          ]
        }
      ]
    }
  ]
}