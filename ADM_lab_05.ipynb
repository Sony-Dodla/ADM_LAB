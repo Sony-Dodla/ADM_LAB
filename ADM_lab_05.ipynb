{
  "nbformat": 4,
  "nbformat_minor": 0,
  "metadata": {
    "colab": {
      "provenance": [],
      "authorship_tag": "ABX9TyOP+0uVU774i6vjKURRa68Z",
      "include_colab_link": true
    },
    "kernelspec": {
      "name": "python3",
      "display_name": "Python 3"
    },
    "language_info": {
      "name": "python"
    }
  },
  "cells": [
    {
      "cell_type": "markdown",
      "metadata": {
        "id": "view-in-github",
        "colab_type": "text"
      },
      "source": [
        "<a href=\"https://colab.research.google.com/github/Sony-Dodla/ADM_LAB/blob/main/ADM_lab_05.ipynb\" target=\"_parent\"><img src=\"https://colab.research.google.com/assets/colab-badge.svg\" alt=\"Open In Colab\"/></a>"
      ]
    },
    {
      "cell_type": "code",
      "source": [
        "import warnings\n",
        "warnings.filterwarnings('ignore', category=DeprecationWarning)"
      ],
      "metadata": {
        "id": "4vriusi8nWcj"
      },
      "execution_count": 15,
      "outputs": []
    },
    {
      "cell_type": "code",
      "source": [
        "import pandas as pd\n",
        "from mlxtend.frequent_patterns import apriori, association_rules\n",
        "from mlxtend.preprocessing import TransactionEncoder"
      ],
      "metadata": {
        "id": "zrOUmRj0msou"
      },
      "execution_count": 8,
      "outputs": []
    },
    {
      "cell_type": "code",
      "source": [
        "df = pd.read_csv(\"/content/Groceries_dataset.csv\")"
      ],
      "metadata": {
        "id": "wDy2Lgr1mxLV"
      },
      "execution_count": 9,
      "outputs": []
    },
    {
      "cell_type": "code",
      "source": [
        "txns = df.groupby(['Member_number'])['itemDescription'].apply(list).tolist()"
      ],
      "metadata": {
        "id": "QkBKi_Onm3po"
      },
      "execution_count": 10,
      "outputs": []
    },
    {
      "cell_type": "code",
      "source": [
        "te = TransactionEncoder()\n",
        "te_ary = te.fit(txns).transform(txns)\n",
        "df_encoded = pd.DataFrame(te_ary, columns=te.columns_)"
      ],
      "metadata": {
        "id": "vkPPprpLm9UE"
      },
      "execution_count": 11,
      "outputs": []
    },
    {
      "cell_type": "code",
      "source": [
        "min_support = 0.01  # Adjust as needed\n",
        "frequent_itemsets = apriori(df_encoded, min_support=min_support, use_colnames=True)"
      ],
      "metadata": {
        "id": "FlDo0pR0nCYN"
      },
      "execution_count": 12,
      "outputs": []
    },
    {
      "cell_type": "code",
      "source": [
        "rules = association_rules(frequent_itemsets, metric=\"confidence\", min_threshold=0.2)"
      ],
      "metadata": {
        "id": "FwVrkP5GnG_H"
      },
      "execution_count": 13,
      "outputs": []
    },
    {
      "cell_type": "code",
      "source": [
        "print(\"Top Association Rules:\")\n",
        "print(rules.sort_values(by=\"lift\", ascending=False).head(10))"
      ],
      "metadata": {
        "colab": {
          "base_uri": "https://localhost:8080/"
        },
        "id": "I6eL-XCvnMpI",
        "outputId": "faccaeb7-547f-43c4-9ab5-9a12efe30398"
      },
      "execution_count": 14,
      "outputs": [
        {
          "output_type": "stream",
          "name": "stdout",
          "text": [
            "Top Association Rules:\n",
            "                                        antecedents  \\\n",
            "5815        (sausage, other vegetables, whole milk)   \n",
            "5814         (rolls/buns, other vegetables, yogurt)   \n",
            "4902                                 (curd, yogurt)   \n",
            "5820              (sausage, rolls/buns, whole milk)   \n",
            "5818               (rolls/buns, yogurt, whole milk)   \n",
            "2643                             (meat, whole milk)   \n",
            "5816        (sausage, other vegetables, rolls/buns)   \n",
            "5775                   (whipped/sour cream, yogurt)   \n",
            "5193                           (pip fruit, sausage)   \n",
            "5827  (whole milk, other vegetables, shopping bags)   \n",
            "\n",
            "                      consequents  antecedent support  consequent support  \\\n",
            "5815         (rolls/buns, yogurt)            0.050282            0.111339   \n",
            "5814        (sausage, whole milk)            0.052335            0.106978   \n",
            "4902        (sausage, whole milk)            0.040277            0.106978   \n",
            "5820   (other vegetables, yogurt)            0.048743            0.120318   \n",
            "5818  (sausage, other vegetables)            0.065931            0.092868   \n",
            "2643              (domestic eggs)            0.034890            0.133145   \n",
            "5816         (yogurt, whole milk)            0.041816            0.150590   \n",
            "5775        (sausage, whole milk)            0.047973            0.106978   \n",
            "5193   (other vegetables, yogurt)            0.042073            0.120318   \n",
            "5827         (rolls/buns, yogurt)            0.042842            0.111339   \n",
            "\n",
            "       support  confidence      lift  representativity  leverage  conviction  \\\n",
            "5815  0.013597    0.270408  2.428689               1.0  0.007998    1.218025   \n",
            "5814  0.013597    0.259804  2.428575               1.0  0.007998    1.206467   \n",
            "4902  0.010005    0.248408  2.322046               1.0  0.005696    1.188173   \n",
            "5820  0.013597    0.278947  2.318415               1.0  0.007732    1.219997   \n",
            "5818  0.013597    0.206226  2.220629               1.0  0.007474    1.142808   \n",
            "2643  0.010262    0.294118  2.208999               1.0  0.005616    1.228044   \n",
            "5816  0.013597    0.325153  2.159196               1.0  0.007300    1.258671   \n",
            "5775  0.011031    0.229947  2.149476               1.0  0.005899    1.159688   \n",
            "5193  0.010775    0.256098  2.128504               1.0  0.005713    1.182523   \n",
            "5827  0.010005    0.233533  2.097492               1.0  0.005235    1.159425   \n",
            "\n",
            "      zhangs_metric   jaccard  certainty  kulczynski  \n",
            "5815       0.619400  0.091854   0.178999    0.196264  \n",
            "5814       0.620721  0.093310   0.171133    0.193451  \n",
            "4902       0.593239  0.072897   0.158372    0.170966  \n",
            "5820       0.597810  0.087459   0.180326    0.195977  \n",
            "5818       0.588476  0.093640   0.124963    0.176317  \n",
            "2643       0.567092  0.065041   0.185697    0.185594  \n",
            "5816       0.560294  0.076040   0.205511    0.207721  \n",
            "5775       0.561718  0.076649   0.137699    0.166532  \n",
            "5193       0.553473  0.071066   0.154351    0.172825  \n",
            "5827       0.546660  0.069395   0.137503    0.161697  \n"
          ]
        }
      ]
    }
  ]
}